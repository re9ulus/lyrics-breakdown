{
 "cells": [
  {
   "cell_type": "markdown",
   "metadata": {},
   "source": [
    "## Generating word clouds from the songs"
   ]
  },
  {
   "cell_type": "code",
   "execution_count": 16,
   "metadata": {
    "collapsed": false
   },
   "outputs": [],
   "source": [
    "# import os\n",
    "import numpy as np\n",
    "import pandas as pd\n",
    "from PIL import Image\n",
    "import matplotlib.pyplot as plt\n",
    "from IPython.core.display import display\n",
    "from wordcloud import WordCloud, STOPWORDS, ImageColorGenerator\n",
    "\n",
    "%matplotlib inline"
   ]
  },
  {
   "cell_type": "code",
   "execution_count": 34,
   "metadata": {
    "collapsed": true
   },
   "outputs": [],
   "source": [
    "def plot_cloud(text, mask=None, stopwords=None):\n",
    "#     try:\n",
    "        wc = WordCloud(background_color='white', width=1600, height=800,\n",
    "                       mask=mask,\n",
    "                       stopwords=stopwords).generate(text)\n",
    "#         plt.imshow(wc)\n",
    "        image_colors = ImageColorGenerator(mask)\n",
    "        plt.imshow(wc.recolor(color_func=image_colors))\n",
    "        plt.axis(\"off\")\n",
    "        plt.figure()\n",
    "        plt.show()\n",
    "#     except Exception as e:\n",
    "#         print(\"Wordcloud Error\")"
   ]
  },
  {
   "cell_type": "code",
   "execution_count": null,
   "metadata": {
    "collapsed": false
   },
   "outputs": [],
   "source": [
    "path = '../data/beatles_let_it_be.txt'\n",
    "guitar_mask = np.array(Image.open(\"../data/guitar.png\"))\n",
    "\n",
    "plt.rcParams['figure.figsize'] = (8.0, 4.0)\n",
    "with open(path, 'r') as f:\n",
    "#     try:\n",
    "        text = f.read()\n",
    "        plot_cloud(text, mask=guitar_mask, stopwords=set(STOPWORDS))\n",
    "#     except Exception as e:\n",
    "        print(\"Wordcloud Error\")"
   ]
  },
  {
   "cell_type": "code",
   "execution_count": 1,
   "metadata": {
    "collapsed": true
   },
   "outputs": [],
   "source": [
    "with open('../data/beatles_let_it_be.txt') as f:\n",
    "    text = f.read()"
   ]
  },
  {
   "cell_type": "code",
   "execution_count": 7,
   "metadata": {
    "collapsed": false
   },
   "outputs": [],
   "source": []
  }
 ],
 "metadata": {
  "kernelspec": {
   "display_name": "Python 2",
   "language": "python",
   "name": "python2"
  },
  "language_info": {
   "codemirror_mode": {
    "name": "ipython",
    "version": 2
   },
   "file_extension": ".py",
   "mimetype": "text/x-python",
   "name": "python",
   "nbconvert_exporter": "python",
   "pygments_lexer": "ipython2",
   "version": "2.7.11"
  }
 },
 "nbformat": 4,
 "nbformat_minor": 0
}
